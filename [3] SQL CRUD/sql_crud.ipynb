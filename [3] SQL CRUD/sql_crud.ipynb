{
 "cells": [
  {
   "cell_type": "markdown",
   "metadata": {},
   "source": [
    "# **Structured Query Language**\n",
    "\n",
    "- is a `programming language` used for **managing** and **manipulating data** held in a relational database management system (RDBMS).\n",
    "- specifically designed for interacting with databases. It allows you to perform various operations like **querying** data, **inserting** new records, **updating** existing records, and **deleting** records.\n",
    "\n",
    "## Database Structures\n",
    "\n",
    "- In SQL, data is stored in tables, which are organized into databases.\n",
    "- Each table consists of **rows** and **columns**\n",
    "- `Rows` represent individual record, `Columns` represent attributes or fields of those records"
   ]
  },
  {
   "cell_type": "code",
   "execution_count": 1,
   "metadata": {},
   "outputs": [
    {
     "name": "stdout",
     "output_type": "stream",
     "text": [
      "Collecting ipython-sqlNote: you may need to restart the kernel to use updated packages.\n",
      "\n",
      "  Downloading ipython_sql-0.5.0-py3-none-any.whl.metadata (17 kB)\n",
      "Collecting prettytable (from ipython-sql)\n",
      "  Downloading prettytable-3.10.0-py3-none-any.whl.metadata (30 kB)\n",
      "Requirement already satisfied: ipython in c:\\users\\arpit\\onecodecamp\\venv\\lib\\site-packages (from ipython-sql) (8.25.0)\n",
      "Collecting sqlalchemy>=2.0 (from ipython-sql)\n",
      "  Downloading SQLAlchemy-2.0.30-cp312-cp312-win_amd64.whl.metadata (9.8 kB)\n",
      "Collecting sqlparse (from ipython-sql)\n",
      "  Downloading sqlparse-0.5.0-py3-none-any.whl.metadata (3.9 kB)\n",
      "Requirement already satisfied: six in c:\\users\\arpit\\onecodecamp\\venv\\lib\\site-packages (from ipython-sql) (1.16.0)\n",
      "Collecting ipython-genutils (from ipython-sql)\n",
      "  Downloading ipython_genutils-0.2.0-py2.py3-none-any.whl.metadata (755 bytes)\n",
      "Collecting typing-extensions>=4.6.0 (from sqlalchemy>=2.0->ipython-sql)\n",
      "  Downloading typing_extensions-4.12.2-py3-none-any.whl.metadata (3.0 kB)\n",
      "Collecting greenlet!=0.4.17 (from sqlalchemy>=2.0->ipython-sql)\n",
      "  Downloading greenlet-3.0.3-cp312-cp312-win_amd64.whl.metadata (3.9 kB)\n",
      "Requirement already satisfied: decorator in c:\\users\\arpit\\onecodecamp\\venv\\lib\\site-packages (from ipython->ipython-sql) (5.1.1)\n",
      "Requirement already satisfied: jedi>=0.16 in c:\\users\\arpit\\onecodecamp\\venv\\lib\\site-packages (from ipython->ipython-sql) (0.19.1)\n",
      "Requirement already satisfied: matplotlib-inline in c:\\users\\arpit\\onecodecamp\\venv\\lib\\site-packages (from ipython->ipython-sql) (0.1.7)\n",
      "Requirement already satisfied: prompt-toolkit<3.1.0,>=3.0.41 in c:\\users\\arpit\\onecodecamp\\venv\\lib\\site-packages (from ipython->ipython-sql) (3.0.47)\n",
      "Requirement already satisfied: pygments>=2.4.0 in c:\\users\\arpit\\onecodecamp\\venv\\lib\\site-packages (from ipython->ipython-sql) (2.18.0)\n",
      "Requirement already satisfied: stack-data in c:\\users\\arpit\\onecodecamp\\venv\\lib\\site-packages (from ipython->ipython-sql) (0.6.3)\n",
      "Requirement already satisfied: traitlets>=5.13.0 in c:\\users\\arpit\\onecodecamp\\venv\\lib\\site-packages (from ipython->ipython-sql) (5.14.3)\n",
      "Requirement already satisfied: colorama in c:\\users\\arpit\\onecodecamp\\venv\\lib\\site-packages (from ipython->ipython-sql) (0.4.6)\n",
      "Requirement already satisfied: wcwidth in c:\\users\\arpit\\onecodecamp\\venv\\lib\\site-packages (from prettytable->ipython-sql) (0.2.13)\n",
      "Requirement already satisfied: parso<0.9.0,>=0.8.3 in c:\\users\\arpit\\onecodecamp\\venv\\lib\\site-packages (from jedi>=0.16->ipython->ipython-sql) (0.8.4)\n",
      "Requirement already satisfied: executing>=1.2.0 in c:\\users\\arpit\\onecodecamp\\venv\\lib\\site-packages (from stack-data->ipython->ipython-sql) (2.0.1)\n",
      "Requirement already satisfied: asttokens>=2.1.0 in c:\\users\\arpit\\onecodecamp\\venv\\lib\\site-packages (from stack-data->ipython->ipython-sql) (2.4.1)\n",
      "Requirement already satisfied: pure-eval in c:\\users\\arpit\\onecodecamp\\venv\\lib\\site-packages (from stack-data->ipython->ipython-sql) (0.2.2)\n",
      "Downloading ipython_sql-0.5.0-py3-none-any.whl (20 kB)\n",
      "Downloading SQLAlchemy-2.0.30-cp312-cp312-win_amd64.whl (2.1 MB)\n",
      "   ---------------------------------------- 0.0/2.1 MB ? eta -:--:--\n",
      "    --------------------------------------- 0.0/2.1 MB 991.0 kB/s eta 0:00:03\n",
      "   -- ------------------------------------- 0.1/2.1 MB 1.7 MB/s eta 0:00:02\n",
      "   ----- ---------------------------------- 0.3/2.1 MB 2.1 MB/s eta 0:00:01\n",
      "   ----------- ---------------------------- 0.6/2.1 MB 3.1 MB/s eta 0:00:01\n",
      "   ------------------ --------------------- 1.0/2.1 MB 4.2 MB/s eta 0:00:01\n",
      "   ---------------------------- ----------- 1.5/2.1 MB 5.2 MB/s eta 0:00:01\n",
      "   ------------------------------------ --- 1.9/2.1 MB 5.7 MB/s eta 0:00:01\n",
      "   ---------------------------------------  2.1/2.1 MB 6.0 MB/s eta 0:00:01\n",
      "   ---------------------------------------- 2.1/2.1 MB 5.1 MB/s eta 0:00:00\n",
      "Downloading ipython_genutils-0.2.0-py2.py3-none-any.whl (26 kB)\n",
      "Downloading prettytable-3.10.0-py3-none-any.whl (28 kB)\n",
      "Downloading sqlparse-0.5.0-py3-none-any.whl (43 kB)\n",
      "   ---------------------------------------- 0.0/44.0 kB ? eta -:--:--\n",
      "   ---------------------------------------- 44.0/44.0 kB 2.1 MB/s eta 0:00:00\n",
      "Downloading greenlet-3.0.3-cp312-cp312-win_amd64.whl (293 kB)\n",
      "   ---------------------------------------- 0.0/293.6 kB ? eta -:--:--\n",
      "   ---------------------------------------- 293.6/293.6 kB 9.1 MB/s eta 0:00:00\n",
      "Downloading typing_extensions-4.12.2-py3-none-any.whl (37 kB)\n",
      "Installing collected packages: ipython-genutils, typing-extensions, sqlparse, prettytable, greenlet, sqlalchemy, ipython-sql\n",
      "Successfully installed greenlet-3.0.3 ipython-genutils-0.2.0 ipython-sql-0.5.0 prettytable-3.10.0 sqlalchemy-2.0.30 sqlparse-0.5.0 typing-extensions-4.12.2\n"
     ]
    }
   ],
   "source": [
    "%pip install ipython-sql"
   ]
  },
  {
   "cell_type": "markdown",
   "metadata": {},
   "source": [
    "### Install ipython-sql package"
   ]
  },
  {
   "cell_type": "markdown",
   "metadata": {},
   "source": [
    "### Load the SQL Extension"
   ]
  },
  {
   "cell_type": "code",
   "execution_count": 1,
   "metadata": {},
   "outputs": [],
   "source": [
    "%load_ext sql"
   ]
  },
  {
   "cell_type": "markdown",
   "metadata": {},
   "source": [
    "### Create SQLite Database"
   ]
  },
  {
   "cell_type": "code",
   "execution_count": 2,
   "metadata": {},
   "outputs": [],
   "source": [
    "%sql sqlite:///sample-database.db"
   ]
  },
  {
   "cell_type": "markdown",
   "metadata": {},
   "source": [
    "## Create Table\n",
    "\n",
    "Syntax:\n",
    "```\n",
    "%%sql CREATE TABLE IF NOT EXISTS table-name (\n",
    "    column1 data-type constraint,\n",
    "    column2 data-type constraint,\n",
    "    ...,\n",
    "    columnN data-type constraint\n",
    ");\n",
    "```\n",
    "Alt + Shift + Down (Windows)\n",
    "Option + Shift + Down (Mac)\n"
   ]
  },
  {
   "cell_type": "code",
   "execution_count": 5,
   "metadata": {},
   "outputs": [
    {
     "name": "stdout",
     "output_type": "stream",
     "text": [
      " * sqlite:///sample-database.db\n",
      "Done.\n"
     ]
    },
    {
     "data": {
      "text/plain": [
       "[]"
      ]
     },
     "execution_count": 5,
     "metadata": {},
     "output_type": "execute_result"
    }
   ],
   "source": [
    "%%sql CREATE TABLE IF NOT EXISTS employees (\n",
    "    employee_id INT PRIMARY KEY,\n",
    "    first_name VARCHAR(50) NOT NULL,\n",
    "    last_name VARCHAR(50) NOT NULL,\n",
    "    department VARCHAR(50),\n",
    "    salary DECIMAL(10, 2) NOT NULL\n",
    ");"
   ]
  },
  {
   "cell_type": "code",
   "execution_count": 6,
   "metadata": {},
   "outputs": [
    {
     "name": "stdout",
     "output_type": "stream",
     "text": [
      " * sqlite:///sample-database.db\n",
      "Done.\n"
     ]
    },
    {
     "data": {
      "text/plain": [
       "[]"
      ]
     },
     "execution_count": 6,
     "metadata": {},
     "output_type": "execute_result"
    }
   ],
   "source": [
    "%%sql \n",
    "-- Dropping a Table (Deleting)\n",
    "DROP TABLE employees;"
   ]
  },
  {
   "cell_type": "code",
   "execution_count": 7,
   "metadata": {},
   "outputs": [
    {
     "name": "stdout",
     "output_type": "stream",
     "text": [
      " * sqlite:///sample-database.db\n",
      "Done.\n"
     ]
    },
    {
     "data": {
      "text/plain": [
       "[]"
      ]
     },
     "execution_count": 7,
     "metadata": {},
     "output_type": "execute_result"
    }
   ],
   "source": [
    "%%sql CREATE TABLE IF NOT EXISTS employees (\n",
    "    employee_id INTEGER PRIMARY KEY AUTOINCREMENT, \n",
    "    first_name VARCHAR(50) NOT NULL,\n",
    "    last_name VARCHAR(50) NOT NULL, \n",
    "    department VARCHAR(50),\n",
    "    salary DECIMAL(10, 2) NOT NULL\n",
    ");"
   ]
  },
  {
   "cell_type": "markdown",
   "metadata": {},
   "source": [
    "### Check if the employee table is created successfully"
   ]
  },
  {
   "cell_type": "code",
   "execution_count": 8,
   "metadata": {},
   "outputs": [
    {
     "name": "stdout",
     "output_type": "stream",
     "text": [
      " * sqlite:///sample-database.db\n",
      "Done.\n"
     ]
    },
    {
     "data": {
      "text/html": [
       "<table>\n",
       "    <thead>\n",
       "        <tr>\n",
       "            <th>name</th>\n",
       "        </tr>\n",
       "    </thead>\n",
       "    <tbody>\n",
       "        <tr>\n",
       "            <td>employees</td>\n",
       "        </tr>\n",
       "        <tr>\n",
       "            <td>sqlite_sequence</td>\n",
       "        </tr>\n",
       "    </tbody>\n",
       "</table>"
      ],
      "text/plain": [
       "[('employees',), ('sqlite_sequence',)]"
      ]
     },
     "execution_count": 8,
     "metadata": {},
     "output_type": "execute_result"
    }
   ],
   "source": [
    "%sql SELECT name FROM sqlite_master WHERE type='table';"
   ]
  },
  {
   "cell_type": "markdown",
   "metadata": {},
   "source": [
    "### Altering Table\n",
    "\n",
    "Syntax:\n",
    "```\n",
    "%%sql ALTER TABLE table-name\n",
    "ADD column-name data-type;\n",
    "```"
   ]
  },
  {
   "cell_type": "code",
   "execution_count": 9,
   "metadata": {},
   "outputs": [
    {
     "name": "stdout",
     "output_type": "stream",
     "text": [
      " * sqlite:///sample-database.db\n",
      "Done.\n"
     ]
    },
    {
     "data": {
      "text/plain": [
       "[]"
      ]
     },
     "execution_count": 9,
     "metadata": {},
     "output_type": "execute_result"
    }
   ],
   "source": [
    "%%sql ALTER TABLE employees\n",
    "ADD hire_date DATE;\n"
   ]
  },
  {
   "cell_type": "code",
   "execution_count": 10,
   "metadata": {},
   "outputs": [
    {
     "name": "stdout",
     "output_type": "stream",
     "text": [
      " * sqlite:///sample-database.db\n",
      "Done.\n"
     ]
    },
    {
     "data": {
      "text/html": [
       "<table>\n",
       "    <thead>\n",
       "        <tr>\n",
       "            <th>cid</th>\n",
       "            <th>name</th>\n",
       "            <th>type</th>\n",
       "            <th>notnull</th>\n",
       "            <th>dflt_value</th>\n",
       "            <th>pk</th>\n",
       "        </tr>\n",
       "    </thead>\n",
       "    <tbody>\n",
       "        <tr>\n",
       "            <td>0</td>\n",
       "            <td>employee_id</td>\n",
       "            <td>INTEGER</td>\n",
       "            <td>0</td>\n",
       "            <td>None</td>\n",
       "            <td>1</td>\n",
       "        </tr>\n",
       "        <tr>\n",
       "            <td>1</td>\n",
       "            <td>first_name</td>\n",
       "            <td>VARCHAR(50)</td>\n",
       "            <td>1</td>\n",
       "            <td>None</td>\n",
       "            <td>0</td>\n",
       "        </tr>\n",
       "        <tr>\n",
       "            <td>2</td>\n",
       "            <td>last_name</td>\n",
       "            <td>VARCHAR(50)</td>\n",
       "            <td>1</td>\n",
       "            <td>None</td>\n",
       "            <td>0</td>\n",
       "        </tr>\n",
       "        <tr>\n",
       "            <td>3</td>\n",
       "            <td>department</td>\n",
       "            <td>VARCHAR(50)</td>\n",
       "            <td>0</td>\n",
       "            <td>None</td>\n",
       "            <td>0</td>\n",
       "        </tr>\n",
       "        <tr>\n",
       "            <td>4</td>\n",
       "            <td>salary</td>\n",
       "            <td>DECIMAL(10, 2)</td>\n",
       "            <td>1</td>\n",
       "            <td>None</td>\n",
       "            <td>0</td>\n",
       "        </tr>\n",
       "        <tr>\n",
       "            <td>5</td>\n",
       "            <td>hire_date</td>\n",
       "            <td>DATE</td>\n",
       "            <td>0</td>\n",
       "            <td>None</td>\n",
       "            <td>0</td>\n",
       "        </tr>\n",
       "    </tbody>\n",
       "</table>"
      ],
      "text/plain": [
       "[(0, 'employee_id', 'INTEGER', 0, None, 1),\n",
       " (1, 'first_name', 'VARCHAR(50)', 1, None, 0),\n",
       " (2, 'last_name', 'VARCHAR(50)', 1, None, 0),\n",
       " (3, 'department', 'VARCHAR(50)', 0, None, 0),\n",
       " (4, 'salary', 'DECIMAL(10, 2)', 1, None, 0),\n",
       " (5, 'hire_date', 'DATE', 0, None, 0)]"
      ]
     },
     "execution_count": 10,
     "metadata": {},
     "output_type": "execute_result"
    }
   ],
   "source": [
    "%%sql\n",
    "-- Checking our table's structure\n",
    "PRAGMA table_info('employees');"
   ]
  },
  {
   "cell_type": "code",
   "execution_count": 11,
   "metadata": {},
   "outputs": [
    {
     "name": "stdout",
     "output_type": "stream",
     "text": [
      " * sqlite:///sample-database.db\n",
      "Done.\n"
     ]
    },
    {
     "data": {
      "text/plain": [
       "[]"
      ]
     },
     "execution_count": 11,
     "metadata": {},
     "output_type": "execute_result"
    }
   ],
   "source": [
    "%%sql ALTER TABLE employees\n",
    "ADD performance_rating INT;"
   ]
  },
  {
   "cell_type": "markdown",
   "metadata": {},
   "source": [
    "## Inserting Data\n",
    "Syntax:\n",
    "```\n",
    "%%sql\n",
    "INSERT INTO table-name (column1, column2, ..., columnN) \n",
    "VALUES (value1, value2, ..., valueN);\n",
    "```"
   ]
  },
  {
   "cell_type": "code",
   "execution_count": 13,
   "metadata": {},
   "outputs": [
    {
     "name": "stdout",
     "output_type": "stream",
     "text": [
      " * sqlite:///sample-database.db\n",
      "1 rows affected.\n"
     ]
    },
    {
     "data": {
      "text/plain": [
       "[]"
      ]
     },
     "execution_count": 13,
     "metadata": {},
     "output_type": "execute_result"
    }
   ],
   "source": [
    "%%sql\n",
    "-- no auto-increment\n",
    "INSERT INTO employees (employee_id, first_name, last_name, department, salary, hire_date, performance_rating)\n",
    "VALUES (1, 'John', 'Doe', 'Sales', 50000.00, '2024-05-30', 3)\n"
   ]
  },
  {
   "cell_type": "code",
   "execution_count": 15,
   "metadata": {},
   "outputs": [
    {
     "name": "stdout",
     "output_type": "stream",
     "text": [
      " * sqlite:///sample-database.db\n",
      "1 rows affected.\n"
     ]
    },
    {
     "data": {
      "text/plain": [
       "[]"
      ]
     },
     "execution_count": 15,
     "metadata": {},
     "output_type": "execute_result"
    }
   ],
   "source": [
    "%%sql\n",
    "-- auto-increment\n",
    "INSERT INTO employees (first_name, last_name, department, salary, hire_date, performance_rating)\n",
    "VALUES ('John', 'Doe', 'Sales', 50000.00, '2024-05-30', 3)"
   ]
  },
  {
   "cell_type": "code",
   "execution_count": 17,
   "metadata": {},
   "outputs": [
    {
     "name": "stdout",
     "output_type": "stream",
     "text": [
      " * sqlite:///sample-database.db\n",
      "Done.\n"
     ]
    },
    {
     "data": {
      "text/plain": [
       "[]"
      ]
     },
     "execution_count": 17,
     "metadata": {},
     "output_type": "execute_result"
    }
   ],
   "source": [
    "%%sql\n",
    "alter table employees rename column hire_date to hiring_date;"
   ]
  },
  {
   "cell_type": "code",
   "execution_count": 18,
   "metadata": {},
   "outputs": [
    {
     "name": "stdout",
     "output_type": "stream",
     "text": [
      " * sqlite:///sample-database.db\n",
      "Done.\n"
     ]
    },
    {
     "data": {
      "text/html": [
       "<table>\n",
       "    <thead>\n",
       "        <tr>\n",
       "            <th>employee_id</th>\n",
       "            <th>first_name</th>\n",
       "            <th>last_name</th>\n",
       "            <th>department</th>\n",
       "            <th>salary</th>\n",
       "            <th>hiring_date</th>\n",
       "            <th>performance_rating</th>\n",
       "        </tr>\n",
       "    </thead>\n",
       "    <tbody>\n",
       "        <tr>\n",
       "            <td>1</td>\n",
       "            <td>John</td>\n",
       "            <td>Doe</td>\n",
       "            <td>Sales</td>\n",
       "            <td>50000</td>\n",
       "            <td>2024-05-30</td>\n",
       "            <td>3</td>\n",
       "        </tr>\n",
       "        <tr>\n",
       "            <td>2</td>\n",
       "            <td>John</td>\n",
       "            <td>Doe</td>\n",
       "            <td>Sales</td>\n",
       "            <td>50000</td>\n",
       "            <td>2024-05-30</td>\n",
       "            <td>3</td>\n",
       "        </tr>\n",
       "    </tbody>\n",
       "</table>"
      ],
      "text/plain": [
       "[(1, 'John', 'Doe', 'Sales', 50000, '2024-05-30', 3),\n",
       " (2, 'John', 'Doe', 'Sales', 50000, '2024-05-30', 3)]"
      ]
     },
     "execution_count": 18,
     "metadata": {},
     "output_type": "execute_result"
    }
   ],
   "source": [
    "%sql SELECT * FROM employees;"
   ]
  },
  {
   "cell_type": "markdown",
   "metadata": {},
   "source": [
    "## Selecting Data\n",
    "\n",
    "Syntax:\n",
    "```\n",
    "%sql SELECT * FROM table-name;\n",
    "```"
   ]
  },
  {
   "cell_type": "markdown",
   "metadata": {},
   "source": [
    "### Select Specific Columns\n",
    "\n",
    "Syntax:\n",
    "```\n",
    "%%sql SELECT column1, column2, ..., columnN \n",
    "FROM table-name;\n",
    "```"
   ]
  },
  {
   "cell_type": "code",
   "execution_count": 19,
   "metadata": {},
   "outputs": [
    {
     "name": "stdout",
     "output_type": "stream",
     "text": [
      " * sqlite:///sample-database.db\n",
      "Done.\n"
     ]
    },
    {
     "data": {
      "text/html": [
       "<table>\n",
       "    <thead>\n",
       "        <tr>\n",
       "            <th>first_name</th>\n",
       "            <th>last_name</th>\n",
       "            <th>department</th>\n",
       "        </tr>\n",
       "    </thead>\n",
       "    <tbody>\n",
       "        <tr>\n",
       "            <td>John</td>\n",
       "            <td>Doe</td>\n",
       "            <td>Sales</td>\n",
       "        </tr>\n",
       "        <tr>\n",
       "            <td>John</td>\n",
       "            <td>Doe</td>\n",
       "            <td>Sales</td>\n",
       "        </tr>\n",
       "    </tbody>\n",
       "</table>"
      ],
      "text/plain": [
       "[('John', 'Doe', 'Sales'), ('John', 'Doe', 'Sales')]"
      ]
     },
     "execution_count": 19,
     "metadata": {},
     "output_type": "execute_result"
    }
   ],
   "source": [
    "%sql SELECT first_name, last_name, department FROM employees;"
   ]
  },
  {
   "cell_type": "markdown",
   "metadata": {},
   "source": [
    "## Update Data\n",
    "Syntax:\n",
    "```\n",
    "UPDATE table-name \n",
    "SET column-name = new-data \n",
    "WHERE primary-key = value;\n",
    "```"
   ]
  },
  {
   "cell_type": "code",
   "execution_count": 20,
   "metadata": {},
   "outputs": [
    {
     "name": "stdout",
     "output_type": "stream",
     "text": [
      " * sqlite:///sample-database.db\n",
      "1 rows affected.\n"
     ]
    },
    {
     "data": {
      "text/plain": [
       "[]"
      ]
     },
     "execution_count": 20,
     "metadata": {},
     "output_type": "execute_result"
    }
   ],
   "source": [
    "%%sql UPDATE employees\n",
    "SET first_name = \"Jane\"\n",
    "WHERE employee_id = 1;"
   ]
  },
  {
   "cell_type": "markdown",
   "metadata": {},
   "source": [
    "#### Inserting more data"
   ]
  },
  {
   "cell_type": "code",
   "execution_count": 23,
   "metadata": {},
   "outputs": [
    {
     "name": "stdout",
     "output_type": "stream",
     "text": [
      " * sqlite:///sample-database.db\n",
      "(sqlite3.IntegrityError) UNIQUE constraint failed: employees.employee_id\n",
      "[SQL: -- no auto-increment\n",
      "INSERT INTO employees (employee_id, first_name, last_name, department, salary, hiring_date, performance_rating)\n",
      "VALUES (2, 'Huy', 'Vo', 'Marketing', 55000.00, '2024-04-25', 4),\n",
      "(3, 'Al', 'H', 'Sales', 60000.00, '2024-04-26', 5),\n",
      "(4, 'Ferds', 'Davis', 'Operations', 62000.00, '2024-04-27', 2),\n",
      "(5, 'Jared', 'Neil', 'Operations', 58000.00, '2024-04-28', 1);]\n",
      "(Background on this error at: https://sqlalche.me/e/20/gkpj)\n"
     ]
    }
   ],
   "source": [
    "%%sql\n",
    "-- no auto-increment\n",
    "INSERT INTO employees (employee_id, first_name, last_name, department, salary, hiring_date, performance_rating)\n",
    "VALUES (2, 'Huy', 'Vo', 'Marketing', 55000.00, '2024-04-25', 4),\n",
    "(3, 'Al', 'H', 'Sales', 60000.00, '2024-04-26', 5),\n",
    "(4, 'Ferds', 'Davis', 'Operations', 62000.00, '2024-04-27', 2),\n",
    "(5, 'Jared', 'Neil', 'Operations', 58000.00, '2024-04-28', 1);"
   ]
  },
  {
   "cell_type": "code",
   "execution_count": 24,
   "metadata": {},
   "outputs": [
    {
     "name": "stdout",
     "output_type": "stream",
     "text": [
      " * sqlite:///sample-database.db\n",
      "(sqlite3.IntegrityError) UNIQUE constraint failed: employees.employee_id\n",
      "[SQL: -- no auto-increment\n",
      "INSERT INTO employees (employee_id, first_name, last_name, department, salary, hiring_date, performance_rating)\n",
      "VALUES (2, 'Huy', 'Vo', 'Marketing', 55000.00, '2024-04-25', 4),\n",
      "(3, 'Al', 'H', 'Sales', 60000.00, '2024-04-26', 5),\n",
      "(4, 'Ferds', 'Davis', 'Operations', 62000.00, '2024-04-27', 2),\n",
      "(5, 'Jared', 'Neil', 'Operations', 58000.00, '2024-04-28', 1);]\n",
      "(Background on this error at: https://sqlalche.me/e/20/gkpj)\n"
     ]
    }
   ],
   "source": [
    "%%sql\n",
    "-- no auto-increment\n",
    "INSERT INTO employees (employee_id, first_name, last_name, department, salary, hiring_date, performance_rating)\n",
    "VALUES (2, 'Huy', 'Vo', 'Marketing', 55000.00, '2024-04-25', 4),\n",
    "(3, 'Al', 'H', 'Sales', 60000.00, '2024-04-26', 5),\n",
    "(4, 'Ferds', 'Davis', 'Operations', 62000.00, '2024-04-27', 2),\n",
    "(5, 'Jared', 'Neil', 'Operations', 58000.00, '2024-04-28', 1);"
   ]
  },
  {
   "cell_type": "code",
   "execution_count": 26,
   "metadata": {},
   "outputs": [
    {
     "name": "stdout",
     "output_type": "stream",
     "text": [
      " * sqlite:///sample-database.db\n",
      "4 rows affected.\n"
     ]
    },
    {
     "data": {
      "text/plain": [
       "[]"
      ]
     },
     "execution_count": 26,
     "metadata": {},
     "output_type": "execute_result"
    }
   ],
   "source": [
    "%%sql\n",
    "-- auto-increment\n",
    "INSERT INTO employees (first_name, last_name, department, salary, hiring_date, performance_rating)\n",
    "VALUES ('Huy', 'Vo', 'Marketing', 55000.00, '2024-04-25', 4),\n",
    "('Al', 'H', 'Sales', 60000.00, '2024-04-26', 5),\n",
    "('Ferds', 'Davis', 'Operations', 62000.00, '2024-04-27', 2),\n",
    "('Jared', 'Neil', 'Operations', 58000.00, '2024-04-28', 1);"
   ]
  },
  {
   "cell_type": "markdown",
   "metadata": {},
   "source": [
    "## Deleting Data\n",
    "\n",
    "Syntax:\n",
    "```\n",
    "DELETE FROM table-name\n",
    "WHERE primary-key = value;\n",
    "```"
   ]
  },
  {
   "cell_type": "code",
   "execution_count": 27,
   "metadata": {},
   "outputs": [
    {
     "name": "stdout",
     "output_type": "stream",
     "text": [
      " * sqlite:///sample-database.db\n",
      "1 rows affected.\n"
     ]
    },
    {
     "data": {
      "text/plain": [
       "[]"
      ]
     },
     "execution_count": 27,
     "metadata": {},
     "output_type": "execute_result"
    }
   ],
   "source": [
    "%%sql DELETE FROM employees\n",
    "WHERE employee_id = 2;"
   ]
  },
  {
   "cell_type": "code",
   "execution_count": 28,
   "metadata": {},
   "outputs": [
    {
     "name": "stdout",
     "output_type": "stream",
     "text": [
      " * sqlite:///sample-database.db\n",
      "Done.\n"
     ]
    },
    {
     "data": {
      "text/html": [
       "<table>\n",
       "    <thead>\n",
       "        <tr>\n",
       "            <th>employee_id</th>\n",
       "            <th>first_name</th>\n",
       "            <th>last_name</th>\n",
       "            <th>department</th>\n",
       "            <th>salary</th>\n",
       "            <th>hiring_date</th>\n",
       "            <th>performance_rating</th>\n",
       "        </tr>\n",
       "    </thead>\n",
       "    <tbody>\n",
       "        <tr>\n",
       "            <td>1</td>\n",
       "            <td>Jane</td>\n",
       "            <td>Doe</td>\n",
       "            <td>Sales</td>\n",
       "            <td>50000</td>\n",
       "            <td>2024-05-30</td>\n",
       "            <td>3</td>\n",
       "        </tr>\n",
       "        <tr>\n",
       "            <td>3</td>\n",
       "            <td>Huy</td>\n",
       "            <td>Vo</td>\n",
       "            <td>Marketing</td>\n",
       "            <td>55000</td>\n",
       "            <td>2024-04-25</td>\n",
       "            <td>4</td>\n",
       "        </tr>\n",
       "        <tr>\n",
       "            <td>4</td>\n",
       "            <td>Al</td>\n",
       "            <td>H</td>\n",
       "            <td>Sales</td>\n",
       "            <td>60000</td>\n",
       "            <td>2024-04-26</td>\n",
       "            <td>5</td>\n",
       "        </tr>\n",
       "        <tr>\n",
       "            <td>5</td>\n",
       "            <td>Ferds</td>\n",
       "            <td>Davis</td>\n",
       "            <td>Operations</td>\n",
       "            <td>62000</td>\n",
       "            <td>2024-04-27</td>\n",
       "            <td>2</td>\n",
       "        </tr>\n",
       "        <tr>\n",
       "            <td>6</td>\n",
       "            <td>Jared</td>\n",
       "            <td>Neil</td>\n",
       "            <td>Operations</td>\n",
       "            <td>58000</td>\n",
       "            <td>2024-04-28</td>\n",
       "            <td>1</td>\n",
       "        </tr>\n",
       "    </tbody>\n",
       "</table>"
      ],
      "text/plain": [
       "[(1, 'Jane', 'Doe', 'Sales', 50000, '2024-05-30', 3),\n",
       " (3, 'Huy', 'Vo', 'Marketing', 55000, '2024-04-25', 4),\n",
       " (4, 'Al', 'H', 'Sales', 60000, '2024-04-26', 5),\n",
       " (5, 'Ferds', 'Davis', 'Operations', 62000, '2024-04-27', 2),\n",
       " (6, 'Jared', 'Neil', 'Operations', 58000, '2024-04-28', 1)]"
      ]
     },
     "execution_count": 28,
     "metadata": {},
     "output_type": "execute_result"
    }
   ],
   "source": [
    "%sql SELECT * FROM employees;"
   ]
  }
 ],
 "metadata": {
  "kernelspec": {
   "display_name": "venv",
   "language": "python",
   "name": "python3"
  },
  "language_info": {
   "codemirror_mode": {
    "name": "ipython",
    "version": 3
   },
   "file_extension": ".py",
   "mimetype": "text/x-python",
   "name": "python",
   "nbconvert_exporter": "python",
   "pygments_lexer": "ipython3",
   "version": "3.12.4"
  }
 },
 "nbformat": 4,
 "nbformat_minor": 2
}
