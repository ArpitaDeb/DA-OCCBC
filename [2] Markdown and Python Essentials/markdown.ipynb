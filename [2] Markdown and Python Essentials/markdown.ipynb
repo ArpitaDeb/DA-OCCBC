{
 "cells": [
  {
   "cell_type": "markdown",
   "metadata": {},
   "source": [
    "Keyboard Shortcuts (shift + enter)\n"
   ]
  },
  {
   "cell_type": "markdown",
   "metadata": {},
   "source": [
    "- **Shift + Enter**: Execute the current cell and move to the next one.\n",
    "- **Ctrl + Enter**: Execute the current cell and remain in the same cell.\n",
    "- **Esc**: Enter command mode, allowing for navigation and execution commands.\n",
    "- **Enter**: Enter edit mode for the currently selected cell.\n",
    "- **A (in command mode)**: Insert a new cell above the current cell.\n",
    "- **B (in command mode)**: Insert a new cell below the current cell.\n",
    "- **M (in command mode)**: Change the current cell to a Markdown cell.\n",
    "- **Y (in command mode)**: Change the current cell to a Code cell.\n"
   ]
  },
  {
   "cell_type": "code",
   "execution_count": null,
   "metadata": {},
   "outputs": [],
   "source": [
    "print(\"Hello World\")"
   ]
  },
  {
   "cell_type": "markdown",
   "metadata": {},
   "source": [
    "### Basic Markdown Syntax"
   ]
  },
  {
   "cell_type": "markdown",
   "metadata": {},
   "source": [
    "# Heading 1 - Titles\n",
    "## Heading 2 - Subtitles\n",
    "### Heading 3 - Subheadings\n",
    "#### Heading 4 - 4th level subheading\n",
    "##### Heading 5 - 5th level subheading\n",
    "###### Heading 6 - 6th level subheading"
   ]
  },
  {
   "cell_type": "markdown",
   "metadata": {},
   "source": [
    "#### Bold\n",
    "- (** **)\n",
    "- (__ __)\n",
    "this is **important**\n",
    "this is __important__"
   ]
  },
  {
   "cell_type": "markdown",
   "metadata": {},
   "source": [
    "#### Italic\n",
    "- (* *)\n",
    "- (_ _)\n",
    "we need to *emphasize this.*\n",
    "we need to _emphasize this._"
   ]
  },
  {
   "cell_type": "markdown",
   "metadata": {},
   "source": [
    "#### Strikethrough\n",
    "- (~~ ~~)\n",
    "~~$500~~  $300"
   ]
  },
  {
   "cell_type": "markdown",
   "metadata": {},
   "source": [
    "#### Superscript and Subscript\n",
    "- <sup></sup> superscript\n",
    "- <sub></sub> subscript\n",
    "2<sup>2</sup> = 4\n",
    "H<sub>2</sub>0"
   ]
  },
  {
   "cell_type": "markdown",
   "metadata": {},
   "source": [
    "#### Inline Code\n",
    "- (``)\n",
    "`print(\"Hello World)` - will print Hello World"
   ]
  },
  {
   "cell_type": "markdown",
   "metadata": {},
   "source": [
    "#### Blockqoutes\n",
    "(> )\n",
    "> Time is gold. - Unknown"
   ]
  },
  {
   "cell_type": "markdown",
   "metadata": {},
   "source": [
    "#### Horizontal Rules\n",
    "- (---) \n",
    "- (***)\n",
    "- (___)\n",
    "---\n",
    "***\n",
    "___"
   ]
  },
  {
   "cell_type": "markdown",
   "metadata": {},
   "source": [
    "#### Lists\n",
    "##### Ordered List\n",
    "1. Step 1\n",
    "2. Step 2\n",
    "3. Step 3\n",
    "##### Unordered List\n",
    "- Banana\n",
    "* Apple\n",
    "+ Lemon\n",
    "##### Nested List\n",
    "1. Step 1\n",
    "    - Cook the rice\n",
    "    - Fry the eggs\n",
    "2. Step 2\n",
    "    - Prepare the table"
   ]
  },
  {
   "cell_type": "markdown",
   "metadata": {},
   "source": [
    "#### Links\n",
    "[Google](https://www.google.com)"
   ]
  },
  {
   "cell_type": "markdown",
   "metadata": {},
   "source": [
    "[] = name of the link\n",
    "() = actual link"
   ]
  },
  {
   "cell_type": "markdown",
   "metadata": {},
   "source": [
    "#### Links\n",
    "[word](link to embed)\n",
    "[Google](https://www.google.com)"
   ]
  },
  {
   "cell_type": "markdown",
   "metadata": {},
   "source": [
    "[]() = Link\n",
    "![]() = Image"
   ]
  },
  {
   "cell_type": "markdown",
   "metadata": {},
   "source": [
    "#### Images\n",
    "![alt text](https://cdn.icon-icons.com/icons2/2699/PNG/512/jupyter_logo_icon_169453.png)\n",
    "![jupyter icon](https://cdn.i/icons2/2699/PNG/512/jupyter_logo_icon_169453.png)"
   ]
  },
  {
   "cell_type": "markdown",
   "metadata": {},
   "source": [
    "![alt text](https://cdn.icon-icons.com/icons2/2699/PNG/512/jupyter_logo_icon_169453.png)\n",
    "\n",
    "![jupyter icon](https://cdn.i/icons2/2699/PNG/512/jupyter_logo_icon_169453.png)"
   ]
  },
  {
   "cell_type": "markdown",
   "metadata": {},
   "source": [
    "1. Headers: Headers are defined by using a pipe symbol (|) to separate columns and hyphens (-) to separate the header row from the content rows. Each column's width is determined by the width of the content within it.\n",
    "2. Content Rows: Content rows follow the same format as the header row. Each cell's content is separated by pipe symbols (|).\n",
    "3. Formatting: You can include basic formatting within cells, such as italics, bold, or links, just like in regular Markdown text."
   ]
  },
  {
   "cell_type": "markdown",
   "metadata": {},
   "source": [
    "#### Tables\n",
    "1. Headers: Headers are defined by using a pipe symbol (|) to separate columns and hyphens (-) to separate the header row from the content rows. Each column's width is determined by the width of the content within it.\n",
    "2. Content Rows: Content rows follow the same format as the header row. Each cell's content is separated by pipe symbols (|).\n",
    "3. Formatting: You can include basic formatting within cells, such as italics, bold, or links, just like in regular Markdown text.\n",
    "| Person | Favorite Color | Favorite Meal     |\n",
    "|--------|----------------|-------------------|\n",
    "|Shannon | Red            | Curry Chicken     |\n",
    "|David   | Blue           |Hamburger and Steak|\n",
    "|Troy    | Magenta        |Onion              |"
   ]
  },
  {
   "cell_type": "markdown",
   "metadata": {},
   "source": [
    "Open terminal - ctrl + J\n",
    "* `python --version`\n",
    "* `python -m pip freeze`\n",
    "* `py -m venv venv`\n",
    "* `venv/Scripts/activate` (for windows)\n",
    "* `source activate` or `source venv/bin/activate` (for Mac)\n",
    "- if previous command didn't work, run:\n",
    " \n",
    "   `Set-ExecutionPolicy -ExecutionPolicy RemoteSigned -Scope CurrentUser`\n",
    "- run `venv/Scripts/activate` (for windows) or `source activate` (for Mac) again\n",
    "* Select Kernel > Python Environments > venv\n",
    "Set-ExecutionPolicy -ExecutionPolicy RemoteSigned -Scope CurrentUser"
   ]
  },
  {
   "cell_type": "markdown",
   "metadata": {},
   "source": []
  },
  {
   "cell_type": "markdown",
   "metadata": {},
   "source": []
  }
 ],
 "metadata": {
  "language_info": {
   "name": "python"
  }
 },
 "nbformat": 4,
 "nbformat_minor": 2
}
